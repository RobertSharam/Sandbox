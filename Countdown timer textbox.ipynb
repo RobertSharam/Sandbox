{
 "cells": [
  {
   "cell_type": "code",
   "execution_count": 6,
   "metadata": {},
   "outputs": [
    {
     "name": "stdout",
     "output_type": "stream",
     "text": [
      "running ? False\n",
      "This event loop is already running\n",
      "Now? : True\n",
      "Finally Now? : True\n"
     ]
    }
   ],
   "source": [
    "#  Credit to Moshe Zadka for this code from an Article on Medium\n",
    "# a really nice intro into ipywidgets,  tasks, reactor and simplicity of subprocesser running for Git integration\n",
    "\n",
    "from twisted.internet import asyncioreactor\n",
    "#asyncioreactor.install()\n",
    "from twisted.internet import reactor, task \n",
    "import ipywidgets , datetime , subprocess, functools, os \n",
    "\n",
    "\n",
    "#LoopingCall can only be exited by an exception so define one \n",
    "class DoneError(Exception): \n",
    "    pass\n",
    "saveCount = 0\n",
    "def time_out_counter(reactor):\n",
    "    label = ipywidgets.Label(\"Time left: 1:00\")\n",
    "    current_seconds = datetime.timedelta(minutes=1).total_seconds()\n",
    "    def decrement(count):\n",
    "        nonlocal current_seconds\n",
    "        current_seconds -= count \n",
    "        time_left = datetime.timedelta(seconds=max(current_seconds,0))\n",
    "        minutes, left = divmod(time_left, minute)\n",
    "        seconds = int(left.total_seconds())\n",
    "        label.value = f\"Time left: {minutes}:{seconds:02}\"\n",
    "        if current_seconds < 0 :\n",
    "            print(\"Times up\")\n",
    "            raise DoneError(\"finished\")  \n",
    "    minute = datetime.timedelta(minutes=1)         \n",
    "    # the withCount makes available the number of calls which should have occurred since it was last invoked.\n",
    "    call = task.LoopingCall.withCount(decrement)\n",
    "    call.reactor=reactor\n",
    "    d = call.start(1)\n",
    "    d.addErrback(lambda f:f.trap(DoneError))\n",
    "    return d, label\n",
    "\n",
    "def editor(fname):\n",
    "    #use continuous_update = false so that it only saves when textarea loses focus\n",
    "    textarea = ipywidgets.Textarea(continuous_update = False)\n",
    "    textarea.rows = 20\n",
    "    # ouput widget can capture and display stdout, stderr , or any other text\n",
    "    output = ipywidgets.Output()\n",
    "    runner = functools.partial(subprocess.run , capture_output=True , text=True,  check = True )\n",
    "    def save(_ignored):\n",
    "        global saveCount \n",
    "        output.clear_output()\n",
    "        saveCount += 1\n",
    "        with output:\n",
    "            with open(fname, \"w\") as fpout : \n",
    "                 fpout.write(textarea.value)\n",
    "            print(f\"Saving...{saveCount}\" , end='')\n",
    "            # push to git and capture any errors via output\n",
    "            try: \n",
    "                print(f\"\\nAdding file to Git {fname}\")\n",
    "                runner([\"git\", \"add\", fname])\n",
    "                runner([\"git\", \"commit\", \"-m\",f\"updated {fname}\"])\n",
    "                runner([\"git\", \"push\"])\n",
    "                print(f\"\\nCommit complete {saveCount}\")\n",
    "            except subprocess.CalledProcessError as exc:\n",
    "                print(\"Could not send\")\n",
    "                print(exc.stdout)\n",
    "                print(exc.stderr)\n",
    "            else:\n",
    "                print(\"Git push Done \")\n",
    "    textarea.observe(save, names =\"value\")\n",
    "    return textarea, output, save\n",
    "    \n",
    "def journal():\n",
    "        date = str(datetime.date.today())\n",
    "        title = f\"Log: start date {date}\"\n",
    "        filename = os.path.join( f\"Journal-{date}.txt\")\n",
    "        print( reactor.getReaders())\n",
    "        d, clock = time_out_counter(reactor)\n",
    "        print(f\"reactor running: {reactor.running} \")\n",
    "        textarea , output , save = editor(filename)\n",
    "        box = ipywidgets.VBox([ipywidgets.Label(title), textarea, clock, output])\n",
    "        d.addCallback(save)\n",
    "        return box\n",
    "    \n",
    "print(f\"running ? {reactor.running}\")\n",
    "if (not reactor.running):\n",
    "    try:\n",
    "        reactor.run()\n",
    "\n",
    "    except Exception as e:\n",
    "        print(e)\n",
    "        import sys\n",
    "        del sys.modules['twisted.internet.reactor']\n",
    "        from twisted.internet import reactor\n",
    "        from twisted.internet import asyncioreactor\n",
    "        asyncioreactor.install()\n",
    "\n",
    "print(F\"Now? : {reactor.running}\")\n",
    "if (not reactor.running):\n",
    "    try:\n",
    "        reactor.run()\n",
    "    except Exception as e:\n",
    "        print(e)\n",
    "        \n",
    "print(F\"Finally Now? : {reactor.running}\")"
   ]
  },
  {
   "cell_type": "code",
   "execution_count": 7,
   "metadata": {},
   "outputs": [
    {
     "name": "stdout",
     "output_type": "stream",
     "text": [
      "[<twisted.internet.posixbase._SocketWaker object at 0x0000017E364DC160>]\n",
      "reactor running: True \n"
     ]
    },
    {
     "data": {
      "application/vnd.jupyter.widget-view+json": {
       "model_id": "1b05d90fbd15491aa90e01deabb4bb24",
       "version_major": 2,
       "version_minor": 0
      },
      "text/plain": [
       "VBox(children=(Label(value='Log: start date 2021-03-03'), Textarea(value='', continuous_update=False, rows=20)…"
      ]
     },
     "metadata": {},
     "output_type": "display_data"
    }
   ],
   "source": [
    "journal()\n"
   ]
  },
  {
   "cell_type": "code",
   "execution_count": null,
   "metadata": {},
   "outputs": [],
   "source": []
  },
  {
   "cell_type": "code",
   "execution_count": null,
   "metadata": {},
   "outputs": [],
   "source": []
  },
  {
   "cell_type": "code",
   "execution_count": null,
   "metadata": {},
   "outputs": [],
   "source": []
  }
 ],
 "metadata": {
  "kernelspec": {
   "display_name": "Python 3",
   "language": "python",
   "name": "python3"
  },
  "language_info": {
   "codemirror_mode": {
    "name": "ipython",
    "version": 3
   },
   "file_extension": ".py",
   "mimetype": "text/x-python",
   "name": "python",
   "nbconvert_exporter": "python",
   "pygments_lexer": "ipython3",
   "version": "3.8.5"
  }
 },
 "nbformat": 4,
 "nbformat_minor": 4
}
